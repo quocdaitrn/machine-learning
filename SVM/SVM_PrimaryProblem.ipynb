{
 "cells": [
  {
   "cell_type": "code",
   "execution_count": 18,
   "metadata": {
    "scrolled": true
   },
   "outputs": [
    {
     "name": "stdout",
     "output_type": "stream",
     "text": [
      "X:\n",
      "[[ 2.51311515  1.58761094]\n",
      " [ 1.48315956  1.33179703]\n",
      " [ 2.58594875  1.95205627]\n",
      " [ 1.84573985  1.14774162]\n",
      " [ 1.83442165  1.47928915]\n",
      " [ 2.05717039  1.91122041]\n",
      " [ 1.44017115  1.91597856]\n",
      " [ 2.24583793  2.91369352]\n",
      " [ 1.25376001  1.92712061]\n",
      " [ 1.63812832  0.69665315]\n",
      " [ 3.48676741  0.47571575]\n",
      " [ 4.24719756  2.46054062]\n",
      " [ 3.22773047  1.62563566]\n",
      " [ 3.62540086  1.97688783]\n",
      " [ 4.58873019  2.60371608]\n",
      " [ 3.41856133 -0.15627217]\n",
      " [ 4.1594917   2.09778715]\n",
      " [ 4.52880464  2.4423396 ]\n",
      " [ 4.02349473  1.86479295]\n",
      " [ 4.38632632  1.70000824]]\n",
      "y:\n",
      "[[ 1.]\n",
      " [ 1.]\n",
      " [ 1.]\n",
      " [ 1.]\n",
      " [ 1.]\n",
      " [ 1.]\n",
      " [ 1.]\n",
      " [ 1.]\n",
      " [ 1.]\n",
      " [ 1.]\n",
      " [-1.]\n",
      " [-1.]\n",
      " [-1.]\n",
      " [-1.]\n",
      " [-1.]\n",
      " [-1.]\n",
      " [-1.]\n",
      " [-1.]\n",
      " [-1.]\n",
      " [-1.]]\n"
     ]
    },
    {
     "data": {
      "image/png": "[encoded data removed]",
      "text/plain": [
       "<Figure size 432x288 with 1 Axes>"
      ]
     },
     "metadata": {},
     "output_type": "display_data"
    },
    {
     "name": "stdout",
     "output_type": "stream",
     "text": [
      "[[-2.95302237]\n",
      " [ 2.9000877 ]\n",
      " [ 3.81707433]]\n"
     ]
    }
   ],
   "source": [
    "from cvxopt import matrix , solvers\n",
    "import numpy as np\n",
    "import matplotlib.pyplot as plt\n",
    "\n",
    "# generate data\n",
    "np.random.seed(22)\n",
    "\n",
    "means = [[2, 2], [4, 2]]\n",
    "cov = [[.4, .2], [.2, .4]]\n",
    "N = 10\n",
    "X0 = np.random.multivariate_normal(means[0], cov, N)\n",
    "X1 = np.random.multivariate_normal(means[1], cov, N)\n",
    "\n",
    "X = np.concatenate((X0, X1), axis = 0)\n",
    "y = np.concatenate((np.ones((N, 1)), -1*np.ones((N, 1))), axis = 0)\n",
    "\n",
    "print(\"X:\")\n",
    "print(X)\n",
    "print(\"y:\")\n",
    "print(y)\n",
    "\n",
    "# draw data\n",
    "plt.plot(X0[:, 0], X0[:, 1], 'bs', markersize = 8, alpha = .8)\n",
    "plt.plot(X1[:, 0], X1[:, 1], 'ro', markersize = 8, alpha = .8)\n",
    "\n",
    "plt.axis('equal')\n",
    "\n",
    "# axis limits\n",
    "plt.ylim(0, 3)\n",
    "plt.xlim(2, 4)\n",
    "\n",
    "# hide tikcs \n",
    "cur_axes = plt.gca()\n",
    "cur_axes.axes.get_xaxis().set_ticks([])\n",
    "cur_axes.axes.get_yaxis().set_ticks([])\n",
    "\n",
    "plt.xlabel('$x_1$', fontsize = 20)\n",
    "plt.ylabel('$x_2$', fontsize = 20)\n",
    "plt.show()\n",
    "\n",
    "# Create matrices and vectors (primamy problem)\n",
    "P = np.array([[1,0,0],[0,1,0],[0,0,1]])\n",
    "P = P.astype('double')\n",
    "K = matrix(P)\n",
    "q = matrix(np.zeros((3,1)))\n",
    "G = np.concatenate((X, np.ones((2*N, 1))), axis = 1) * np.concatenate((-y, -y, -y), axis = 1)\n",
    "G = matrix(G)\n",
    "h = matrix(-np.ones((2*N, 1)))\n",
    "\n",
    "# solve\n",
    "solvers.options['show_progress'] = False\n",
    "solultion = solvers.qp(K,q,G,h)\n",
    "\n",
    "# obtain solution\n",
    "w = np.array(solultion['x'])\n",
    "\n",
    "print(w)"
   ]
  },
  {
   "cell_type": "code",
   "execution_count": 19,
   "metadata": {},
   "outputs": [
    {
     "data": {
      "image/png": "[encoded data removed]",
      "text/plain": [
       "<Figure size 432x288 with 1 Axes>"
      ]
     },
     "metadata": {},
     "output_type": "display_data"
    }
   ],
   "source": [
    "# Draw\n",
    "# plot points\n",
    "fig, ax = plt.subplots()\n",
    "\n",
    "x1 = np.arange(-10, 10, 0.1)\n",
    "y1 = -w[0, 0]/w[1, 0]*x1 - w[2, 0]/w[1, 0]\n",
    "y2 = -w[0, 0]/w[1, 0]*x1 - (w[2, 0]-1)/w[1, 0]\n",
    "y3 = -w[0, 0]/w[1, 0]*x1 - (w[2, 0]+1)/w[1, 0]\n",
    "plt.plot(x1, y1, 'k', linewidth = 3)\n",
    "plt.plot(x1, y2, 'k')\n",
    "plt.plot(x1, y3, 'k')\n",
    "\n",
    "y4 = 10*x1\n",
    "plt.plot(x1, y1, 'k')\n",
    "plt.fill_between(x1, y1, color='green', alpha='0.1')\n",
    "plt.fill_between(x1, y1, y4, color = 'blue', alpha = '0.1')\n",
    "\n",
    "plt.plot(X0[:, 0], X0[:, 1], 'bs', markersize = 8, alpha = 1, label = '+1')\n",
    "plt.plot(X1[:, 0], X1[:, 1], 'ro', markersize = 8, alpha = 1, label = '-1')\n",
    "\n",
    "plt.axis('equal')\n",
    "plt.ylim(0, 3)\n",
    "plt.xlim(2, 4)\n",
    "\n",
    "# hide tikcs \n",
    "cur_axes = plt.gca()\n",
    "cur_axes.axes.get_xaxis().set_ticks([])\n",
    "cur_axes.axes.get_yaxis().set_ticks([])\n",
    "\n",
    "plt.xlabel('$x_1$', fontsize = 20)\n",
    "plt.ylabel('$x_2$', fontsize = 20)\n",
    "\n",
    "# # add circles around support vectors \n",
    "# for m in S[0]:\n",
    "#     circle = plt.Circle((X[0, m], X[1, m] ), 0.1, color='k', fill = False)\n",
    "#     ax.add_artist(circle)\n",
    "\n",
    "plt.legend(loc = 'lower right')\n",
    "plt.show()"
   ]
  },
  {
   "cell_type": "code",
   "execution_count": null,
   "metadata": {},
   "outputs": [],
   "source": []
  }
 ],
 "metadata": {
  "kernelspec": {
   "display_name": "machine-learning",
   "language": "python",
   "name": "machine-learning"
  },
  "language_info": {
   "codemirror_mode": {
    "name": "ipython",
    "version": 3
   },
   "file_extension": ".py",
   "mimetype": "text/x-python",
   "name": "python",
   "nbconvert_exporter": "python",
   "pygments_lexer": "ipython3",
   "version": "3.7.4"
  }
 },
 "nbformat": 4,
 "nbformat_minor": 2
}

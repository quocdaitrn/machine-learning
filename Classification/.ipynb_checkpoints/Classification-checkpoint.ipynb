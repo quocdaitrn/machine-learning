{
 "cells": [
  {
   "cell_type": "code",
   "execution_count": 59,
   "metadata": {},
   "outputs": [
    {
     "name": "stdout",
     "output_type": "stream",
     "text": [
      "Solution of Logistic Regression: [ 1.54337021 -4.06486702]\n",
      "Final loss: 0.40244672497461936\n"
     ]
    },
    {
     "data": {
      "image/png": "[encoded data removed]",
      "text/plain": [
       "<Figure size 432x288 with 1 Axes>"
      ]
     },
     "metadata": {
      "needs_background": "light"
     },
     "output_type": "display_data"
    },
    {
     "data": {
      "image/png": "[encoded data removed]",
      "text/plain": [
       "<Figure size 432x288 with 1 Axes>"
      ]
     },
     "metadata": {
      "needs_background": "light"
     },
     "output_type": "display_data"
    }
   ],
   "source": [
    "import numpy as np \n",
    "import matplotlib.pyplot as plt\n",
    "\n",
    "\n",
    "def sigmoid(S):\n",
    "    \"\"\"\n",
    "    Hàm tính sigmoid\n",
    "    \"\"\"\n",
    "    return 1/(1 + np.exp(-S))\n",
    "\n",
    "def bias_trick(X):\n",
    "    N = X.shape[0]\n",
    "    return np.concatenate((X, np.ones((N, 1))), axis = 1)\n",
    "\n",
    "def prob(w, X):\n",
    "    \"\"\"\n",
    "    Hàm tính xác xuất cho mỗi điểm dữ liệu\n",
    "    \"\"\"\n",
    "    return sigmoid(X.dot(w))\n",
    "\n",
    "\n",
    "def loss(w, X, y, lam):\n",
    "    \"\"\"\n",
    "    Hàm mất mát theo công thức hồi quy logistic\n",
    "    \"\"\"\n",
    "    z = prob(w, X)\n",
    "    return -np.mean(y*np.log(z) + (1-y)*np.log(1-z)) + 0.5*lam/X.shape[0]*np.sum(w*w)\n",
    "\n",
    "\n",
    "def predict(w, X, threshold = 0.5):\n",
    "    \"\"\"\n",
    "    Dự đoán output của mỗi hàng của X\n",
    "    threshold: ngưỡng có giá trị từ 0 đến 1\n",
    "    \"\"\"\n",
    "    res = np.zeros(X.shape[0])\n",
    "    res[np.where(prob(w, X) > threshold)[0]] = 1\n",
    "    return res \n",
    "\n",
    "\n",
    "def logistic_regression(w_init, X, y, lam = 0.001, lr = 0.1, nepoches = 2000):\n",
    "    # lr - tốc độ học, nepoches - số lượng epoche\n",
    "    N, d = X.shape[0], X.shape[1]\n",
    "    w = w_old = w_init \n",
    "    # history của hàm loss\n",
    "    loss_hist = [loss(w_init, X, y, lam)]\n",
    "    ep = 0 \n",
    "    while ep < nepoches: \n",
    "        ep += 1\n",
    "        mix_ids = np.random.permutation(N)\n",
    "        for i in mix_ids:\n",
    "            xi = X[i]\n",
    "            yi = y[i]\n",
    "            zi = sigmoid(xi.dot(w))\n",
    "            w = w - lr*((zi - yi)*xi + lam*w)\n",
    "        loss_hist.append(loss(w, X, y, lam))\n",
    "        if np.linalg.norm(w - w_old)/d < 1e-6:\n",
    "            break \n",
    "        w_old = w\n",
    "    return w, loss_hist\n",
    "\n",
    "np.random.seed(2)\n",
    "X = np.array([[0.50, 0.75, 1.00, 1.25, 1.50, 1.75, 1.75, 2.00, 2.25, 2.50, \n",
    "              2.75, 3.00, 3.25, 3.50, 4.00, 4.25, 4.50, 4.75, 5.00, 5.50]]).T\n",
    "y = np.array([0, 0, 0, 0, 0, 0, 1, 0, 1, 0, 1, 0, 1, 0, 1, 1, 1, 1, 1, 1])\n",
    "\n",
    "# bias trick \n",
    "Xbar = np.concatenate((X, np.ones((X.shape[0], 1))), axis = 1)\n",
    "w_init = np.random.randn(Xbar.shape[1])\n",
    "lam = 0.0001\n",
    "w, loss_hist = logistic_regression(w_init, Xbar, y, lam, lr = 0.05, nepoches = 500)\n",
    "print('Solution of Logistic Regression:', w)\n",
    "print('Final loss:', loss(w, Xbar, y, lam))\n",
    "\n",
    "# Visualize\n",
    "X0 = X[np.where(y == 0)]\n",
    "y0 = y[np.where(y == 0)]\n",
    "X1 = X[np.where(y == 1)]\n",
    "y1 = y[np.where(y == 1)]\n",
    "plt.plot(X0, y0, 'ro')\n",
    "plt.plot(X1, y1, 'bs')\n",
    "plt.plot(X, prob(w, Xbar), 'g-')\n",
    "plt.show()\n",
    "\n",
    "plt.plot(loss_hist)\n",
    "plt.xlabel('number of iterations', fontsize = 13)\n",
    "plt.ylabel('loss function', fontsize = 13)\n",
    "plt.show()"
   ]
  },
  {
   "cell_type": "code",
   "execution_count": null,
   "metadata": {},
   "outputs": [],
   "source": []
  },
  {
   "cell_type": "code",
   "execution_count": null,
   "metadata": {},
   "outputs": [],
   "source": []
  }
 ],
 "metadata": {
  "kernelspec": {
   "display_name": "machine-learning",
   "language": "python",
   "name": "machine-learning"
  },
  "language_info": {
   "codemirror_mode": {
    "name": "ipython",
    "version": 3
   },
   "file_extension": ".py",
   "mimetype": "text/x-python",
   "name": "python",
   "nbconvert_exporter": "python",
   "pygments_lexer": "ipython3",
   "version": "3.7.4"
  }
 },
 "nbformat": 4,
 "nbformat_minor": 2
}

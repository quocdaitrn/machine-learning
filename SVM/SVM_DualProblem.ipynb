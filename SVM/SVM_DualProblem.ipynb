{
 "cells": [
  {
   "cell_type": "code",
   "execution_count": 31,
   "metadata": {
    "scrolled": false
   },
   "outputs": [
    {
     "name": "stdout",
     "output_type": "stream",
     "text": [
      "Alphas =  [4.16662779e-01 4.22591258e-08 4.16662736e-01]\n",
      "w =  [[-0.48892782]\n",
      " [-0.77089245]]\n",
      "b =  [4.70598761]\n"
     ]
    }
   ],
   "source": [
    "import numpy as np \n",
    "import matplotlib.pyplot as plt\n",
    "\n",
    "# Generate data\n",
    "np.random.seed(22)\n",
    "\n",
    "means = [[2, 2], [4, 6]]\n",
    "cov = [[1, 0], [0, 1]]\n",
    "N = 10\n",
    "X0 = np.random.multivariate_normal(means[0], cov, N)\n",
    "X1 = np.random.multivariate_normal(means[1], cov, N)\n",
    "\n",
    "X = np.concatenate((X0.T, X1.T), axis = 1)\n",
    "y = np.concatenate((np.ones((1, N)), -1*np.ones((1, N))), axis = 1)\n",
    "\n",
    "# Solve Problem\n",
    "from cvxopt import matrix, solvers\n",
    "# build P, q\n",
    "Xbar = np.concatenate((X0, X1), axis = 0) * y.reshape(-1,1)\n",
    "P = matrix(Xbar.dot(Xbar.T))\n",
    "q = matrix(-np.ones((2*N, 1)))\n",
    "# build A, b, G, h \n",
    "G = matrix(-np.eye(2*N))\n",
    "h = matrix(np.zeros((2*N, 1)))\n",
    "A = matrix(y) \n",
    "b = matrix(np.zeros((1, 1)))\n",
    "# solve\n",
    "solvers.options['show_progress'] = False\n",
    "solution = solvers.qp(P, q, G, h, A, b)\n",
    "\n",
    "alphas = np.array(solution['x'])\n",
    "\n",
    "# Calculate w and b\n",
    "# computing w\n",
    "w = Xbar.T.dot(alphas)\n",
    "\n",
    "# selecting the set of indices S corresponding to non zero parameters\n",
    "S_bool = (alphas > 1e-8).flatten()\n",
    "S = np.where(alphas > 1e-8)\n",
    "\n",
    "# computing b\n",
    "b_array = y.T[S_bool] - np.dot(X.T[S_bool], w)\n",
    "b = b_array[0]\n",
    "\n",
    "#Display results\n",
    "print('Alphas = ', alphas[alphas > 1e-8])\n",
    "print('w = ', w)\n",
    "print('b = ', b)"
   ]
  },
  {
   "cell_type": "code",
   "execution_count": 37,
   "metadata": {
    "scrolled": false
   },
   "outputs": [
    {
     "data": {
      "image/png": "[encoded data removed]",
      "text/plain": [
       "<Figure size 432x288 with 1 Axes>"
      ]
     },
     "metadata": {},
     "output_type": "display_data"
    }
   ],
   "source": [
    "# Draw\n",
    "# plot points\n",
    "fig, ax = plt.subplots()\n",
    "\n",
    "x1 = np.arange(-10, 10, 0.1)\n",
    "y1 = -w[0, 0]/w[1, 0]*x1 - b/w[1, 0]\n",
    "y2 = -w[0, 0]/w[1, 0]*x1 - (b-1)/w[1, 0]\n",
    "y3 = -w[0, 0]/w[1, 0]*x1 - (b+1)/w[1, 0]\n",
    "plt.plot(x1, y1, 'k', linewidth = 3)\n",
    "plt.plot(x1, y2, 'k')\n",
    "plt.plot(x1, y3, 'k')\n",
    "\n",
    "y4 = -0.5 * x1 + 20\n",
    "plt.plot(x1, y1, 'k')\n",
    "plt.fill_between(x1, y1, color='blue', alpha='0.1')\n",
    "plt.fill_between(x1, y1, y4, color = 'red', alpha = '0.1')\n",
    "\n",
    "plt.plot(X0[:, 0], X0[:, 1], 'bs', markersize = 8, alpha = 1, label = '+1')\n",
    "plt.plot(X1[:, 0], X1[:, 1], 'ro', markersize = 8, alpha = 1, label = '-1')\n",
    "\n",
    "plt.axis('equal')\n",
    "plt.ylim(0, 8)\n",
    "plt.xlim(0, 6)\n",
    "\n",
    "# hide tikcs \n",
    "cur_axes = plt.gca()\n",
    "cur_axes.axes.get_xaxis().set_ticks([])\n",
    "cur_axes.axes.get_yaxis().set_ticks([])\n",
    "\n",
    "plt.xlabel('$x_1$', fontsize = 20)\n",
    "plt.ylabel('$x_2$', fontsize = 20)\n",
    "\n",
    "# add circles around support vectors \n",
    "for m in S[0]:\n",
    "    circle = plt.Circle((X[0, m], X[1, m] ), 0.25, color='k', fill = False)\n",
    "    ax.add_artist(circle)\n",
    "\n",
    "plt.legend()\n",
    "plt.show()"
   ]
  },
  {
   "cell_type": "code",
   "execution_count": null,
   "metadata": {},
   "outputs": [],
   "source": []
  }
 ],
 "metadata": {
  "kernelspec": {
   "display_name": "machine-learning",
   "language": "python",
   "name": "machine-learning"
  },
  "language_info": {
   "codemirror_mode": {
    "name": "ipython",
    "version": 3
   },
   "file_extension": ".py",
   "mimetype": "text/x-python",
   "name": "python",
   "nbconvert_exporter": "python",
   "pygments_lexer": "ipython3",
   "version": "3.7.4"
  }
 },
 "nbformat": 4,
 "nbformat_minor": 2
}
